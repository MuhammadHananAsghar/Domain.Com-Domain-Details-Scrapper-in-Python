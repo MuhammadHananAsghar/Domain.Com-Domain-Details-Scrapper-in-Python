{
 "cells": [
  {
   "cell_type": "markdown",
   "metadata": {},
   "source": [
    "<div>\n",
    "    <h1>Muhammad Hanan Asghar</h1>\n",
    "<p>Pythonist,Data Scientist</p>\n",
    "<img src=\"https://assets.gitlab-static.net/uploads/-/system/user/avatar/6243411/avatar.png?width=90\" alt=\"Hanan Here\"/>\n",
    "</div>"
   ]
  },
  {
   "cell_type": "code",
   "execution_count": 2,
   "metadata": {},
   "outputs": [],
   "source": [
    "import requests\n",
    "from bs4 import BeautifulSoup as Soup\n",
    "from fake_useragent import UserAgent\n",
    "ua = UserAgent()"
   ]
  },
  {
   "cell_type": "code",
   "execution_count": 36,
   "metadata": {},
   "outputs": [],
   "source": [
    "html = requests.get(\"https://registration.domain.com/domains/search/tech.com?suggestions=100&aftermarket=true&propertyID=47\",headers={\"User-Agent\":f\"{ua.random}\"}).json()"
   ]
  },
  {
   "cell_type": "code",
   "execution_count": 47,
   "metadata": {},
   "outputs": [],
   "source": [
    "import pandas as pd"
   ]
  },
  {
   "cell_type": "code",
   "execution_count": 53,
   "metadata": {},
   "outputs": [],
   "source": [
    "def DomainCom():\n",
    "    search = input(\"Enter Domain: \")\n",
    "    html = requests.get(f\"https://registration.domain.com/domains/search/{str(search)}.com?suggestions=100&aftermarket=true&propertyID=47\",headers={\"User-Agent\":f\"{ua.random}\"}).json()\n",
    "    prod_tld = []\n",
    "    prod_domain = []\n",
    "    prod_price = []\n",
    "    for i in range(len(html['suggestions'])):\n",
    "        val = html['suggestions'][i]['domainInfo']\n",
    "        prod_tld.append(val['tld'])\n",
    "        prod_domain.append(val['domain'])\n",
    "        prod_price.append(\"$\"+val['price'])\n",
    "    data = {\n",
    "        \"Domain Name\":prod_domain,\n",
    "        \"Tld\":prod_tld,\n",
    "        \"Price\":prod_price\n",
    "    }\n",
    "    df = pd.DataFrame(data)\n",
    "    df['Provider'] = \"Domain.com\"\n",
    "    df.sort_values('Domain Name')\n",
    "    return df"
   ]
  },
  {
   "cell_type": "code",
   "execution_count": 54,
   "metadata": {},
   "outputs": [
    {
     "name": "stdin",
     "output_type": "stream",
     "text": [
      "Enter Domain:  beautiy\n"
     ]
    },
    {
     "data": {
      "text/html": [
       "<div>\n",
       "<style scoped>\n",
       "    .dataframe tbody tr th:only-of-type {\n",
       "        vertical-align: middle;\n",
       "    }\n",
       "\n",
       "    .dataframe tbody tr th {\n",
       "        vertical-align: top;\n",
       "    }\n",
       "\n",
       "    .dataframe thead th {\n",
       "        text-align: right;\n",
       "    }\n",
       "</style>\n",
       "<table border=\"1\" class=\"dataframe\">\n",
       "  <thead>\n",
       "    <tr style=\"text-align: right;\">\n",
       "      <th></th>\n",
       "      <th>Domain Name</th>\n",
       "      <th>Tld</th>\n",
       "      <th>Price</th>\n",
       "      <th>Provider</th>\n",
       "    </tr>\n",
       "  </thead>\n",
       "  <tbody>\n",
       "    <tr>\n",
       "      <th>0</th>\n",
       "      <td>ylvi.net</td>\n",
       "      <td>net</td>\n",
       "      <td>$1088.0</td>\n",
       "      <td>Domain.com</td>\n",
       "    </tr>\n",
       "    <tr>\n",
       "      <th>1</th>\n",
       "      <td>beautifulvalley.com</td>\n",
       "      <td>com</td>\n",
       "      <td>$4888.0</td>\n",
       "      <td>Domain.com</td>\n",
       "    </tr>\n",
       "    <tr>\n",
       "      <th>2</th>\n",
       "      <td>amandacorey.com</td>\n",
       "      <td>com</td>\n",
       "      <td>$1588.0</td>\n",
       "      <td>Domain.com</td>\n",
       "    </tr>\n",
       "    <tr>\n",
       "      <th>3</th>\n",
       "      <td>beauticianstips.com</td>\n",
       "      <td>com</td>\n",
       "      <td>$488.0</td>\n",
       "      <td>Domain.com</td>\n",
       "    </tr>\n",
       "    <tr>\n",
       "      <th>4</th>\n",
       "      <td>beautificationproject.com</td>\n",
       "      <td>com</td>\n",
       "      <td>$2788.0</td>\n",
       "      <td>Domain.com</td>\n",
       "    </tr>\n",
       "    <tr>\n",
       "      <th>...</th>\n",
       "      <td>...</td>\n",
       "      <td>...</td>\n",
       "      <td>...</td>\n",
       "      <td>...</td>\n",
       "    </tr>\n",
       "    <tr>\n",
       "      <th>95</th>\n",
       "      <td>beautifultalks.com</td>\n",
       "      <td>com</td>\n",
       "      <td>$488.0</td>\n",
       "      <td>Domain.com</td>\n",
       "    </tr>\n",
       "    <tr>\n",
       "      <th>96</th>\n",
       "      <td>beautifulspecks.com</td>\n",
       "      <td>com</td>\n",
       "      <td>$1088.0</td>\n",
       "      <td>Domain.com</td>\n",
       "    </tr>\n",
       "    <tr>\n",
       "      <th>97</th>\n",
       "      <td>beautifyinghome.com</td>\n",
       "      <td>com</td>\n",
       "      <td>$888.0</td>\n",
       "      <td>Domain.com</td>\n",
       "    </tr>\n",
       "    <tr>\n",
       "      <th>98</th>\n",
       "      <td>beautifulabode.com</td>\n",
       "      <td>com</td>\n",
       "      <td>$1488.0</td>\n",
       "      <td>Domain.com</td>\n",
       "    </tr>\n",
       "    <tr>\n",
       "      <th>99</th>\n",
       "      <td>beautifulpedicure.com</td>\n",
       "      <td>com</td>\n",
       "      <td>$588.0</td>\n",
       "      <td>Domain.com</td>\n",
       "    </tr>\n",
       "  </tbody>\n",
       "</table>\n",
       "<p>100 rows × 4 columns</p>\n",
       "</div>"
      ],
      "text/plain": [
       "                  Domain Name  Tld    Price    Provider\n",
       "0                    ylvi.net  net  $1088.0  Domain.com\n",
       "1         beautifulvalley.com  com  $4888.0  Domain.com\n",
       "2             amandacorey.com  com  $1588.0  Domain.com\n",
       "3         beauticianstips.com  com   $488.0  Domain.com\n",
       "4   beautificationproject.com  com  $2788.0  Domain.com\n",
       "..                        ...  ...      ...         ...\n",
       "95         beautifultalks.com  com   $488.0  Domain.com\n",
       "96        beautifulspecks.com  com  $1088.0  Domain.com\n",
       "97        beautifyinghome.com  com   $888.0  Domain.com\n",
       "98         beautifulabode.com  com  $1488.0  Domain.com\n",
       "99      beautifulpedicure.com  com   $588.0  Domain.com\n",
       "\n",
       "[100 rows x 4 columns]"
      ]
     },
     "execution_count": 54,
     "metadata": {},
     "output_type": "execute_result"
    }
   ],
   "source": [
    "DomainCom()"
   ]
  },
  {
   "cell_type": "code",
   "execution_count": null,
   "metadata": {},
   "outputs": [],
   "source": []
  }
 ],
 "metadata": {
  "kernelspec": {
   "display_name": "Python 3",
   "language": "python",
   "name": "python3"
  },
  "language_info": {
   "codemirror_mode": {
    "name": "ipython",
    "version": 3
   },
   "file_extension": ".py",
   "mimetype": "text/x-python",
   "name": "python",
   "nbconvert_exporter": "python",
   "pygments_lexer": "ipython3",
   "version": "3.8.0+"
  }
 },
 "nbformat": 4,
 "nbformat_minor": 4
}
